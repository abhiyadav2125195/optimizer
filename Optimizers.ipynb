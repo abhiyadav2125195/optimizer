{
 "cells": [
  {
   "cell_type": "markdown",
   "id": "3026b034-1c0d-40e6-94ac-d0fd34abf78d",
   "metadata": {},
   "source": [
    "#  What is the role of optimization algorithms in artificial neural networksK Why are they necessary"
   ]
  },
  {
   "cell_type": "markdown",
   "id": "7df0a4bb-4b89-41d6-b700-973ddd51d252",
   "metadata": {},
   "source": [
    "Optimization algorithms play a crucial role in training artificial neural networks. The primary objective during training is to minimize a chosen loss function by adjusting the model parameters (weights and biases). Optimization algorithms are necessary for efficiently navigating the high-dimensional parameter space to find the optimal set of parameters that minimize the loss."
   ]
  },
  {
   "cell_type": "markdown",
   "id": "21bc8ae3-78c9-4937-b21c-2fd2a7f5e2fa",
   "metadata": {},
   "source": [
    "#  Explain the concept of gradient descent and its variants. Discuss their differences and tradeoffs in terms of convergence speed and memory requirement\n"
   ]
  },
  {
   "cell_type": "markdown",
   "id": "c16a2b8d-89a6-4ab9-8eb6-189f3a15bd2a",
   "metadata": {},
   "source": [
    "Concept of Gradient Descent and Its Variants:\n",
    "Gradient Descent:\n",
    "Idea: Gradient descent is an iterative optimization algorithm that minimizes a function by adjusting its parameters in the direction opposite to the gradient of the function with respect to the parameters.\n",
    "Procedure:\n",
    "Compute the gradient of the loss function with respect to the parameters.\n",
    "Update the parameters in the opposite direction of the gradient.\n",
    "Repeat until convergence or a predefined number of iterations.\n",
    "Variants of Gradient Descent:\n",
    "Stochastic Gradient Descent (SGD):\n",
    "\n",
    "Idea: Uses a single randomly chosen data point (or a small batch) to compute the gradient and update the parameters.\n",
    "Tradeoff: High variance in parameter updates but computationally more efficient.\n",
    "Mini-Batch Gradient Descent:\n",
    "\n",
    "Idea: Uses a small random subset of the data (mini-batch) to compute the gradient and update the parameters.\n",
    "Tradeoff: Balance between the efficiency of SGD and the stability of batch gradient descent.\n",
    "Batch Gradient Descent:\n",
    "\n",
    "Idea: Computes the gradient of the entire dataset to update the parameters.\n",
    "Tradeoff: More stable updates but computationally expensive for large datasets."
   ]
  },
  {
   "cell_type": "markdown",
   "id": "8ebd2c6e-78a8-44a4-ad58-4911639b528b",
   "metadata": {},
   "source": [
    " # Describe the challenges associated with traditional gradient descent optimization methods (e.g., slow convergence, local minima<. How do modern optimizers address these challenges\n"
   ]
  },
  {
   "cell_type": "markdown",
   "id": "f5383a7c-63e9-4e23-9e63-6b2732569327",
   "metadata": {},
   "source": [
    "Challenges Associated with Traditional Gradient Descent:\n",
    "Slow Convergence:\n",
    "\n",
    "Traditional gradient descent methods may converge slowly, especially in high-dimensional spaces.\n",
    "Local Minima:\n",
    "\n",
    "Getting stuck in local minima, saddle points, or plateaus can hinder convergence to the global minimum.\n",
    "Modern Optimizers and Addressing Challenges:\n",
    "Adam (Adaptive Moment Estimation):\n",
    "\n",
    "Idea: Combines ideas from RMSprop and Momentum. Adapts the learning rates for each parameter and maintains exponentially decaying averages of past gradients.\n",
    "Advantages: Efficient memory usage, adaptive learning rates, and momentum-like behavior.\n",
    "RMSprop (Root Mean Square Propagation):\n",
    "\n",
    "Idea: Adjusts the learning rates for each parameter based on the historical average of the squared gradients.\n",
    "Advantages: Addresses the problem of rapidly decreasing learning rates in AdaGrad.\n",
    "Adagrad (Adaptive Gradient Algorithm):\n",
    "\n",
    "Idea: Adapts the learning rates for each parameter based on the historical sum of squared gradients.\n",
    "Challenges: Can lead to overly aggressive learning rate reductions."
   ]
  },
  {
   "cell_type": "markdown",
   "id": "966f0a6c-992e-4aeb-9a60-f2fad9d2a50f",
   "metadata": {},
   "source": [
    "# Discuss the concepts of momentum and learning rate in the context of optimization algorithms. How do they impact convergence and model performance"
   ]
  },
  {
   "cell_type": "markdown",
   "id": "2d6f45e5-0a9b-4db5-a61e-49bfe47b5b72",
   "metadata": {},
   "source": [
    "Concepts of Momentum and Learning Rate:\n",
    "Momentum:\n",
    "Idea: Momentum is a method that accelerates SGD by adding a fraction of the previous update to the current update.\n",
    "Effect: Helps overcome slow convergence and oscillations by maintaining a more consistent direction.\n",
    "Learning Rate:\n",
    "Idea: Learning rate determines the size of the steps taken during optimization. Too high a learning rate may cause divergence, while too low a learning rate may lead to slow convergence.\n",
    "Adjustment: Learning rates can be fixed, decay over time, or adaptively adjusted by optimizers like Adam.\n",
    "Impact on Convergence and Model Performance:\n",
    "Momentum: Helps accelerate convergence, especially in the presence of noisy gradients, and may help escape local minima.\n",
    "\n",
    "Learning Rate: Affects the size of parameter updates. Smaller learning rates can lead to more stable convergence, while larger learning rates may help escape local minima but risk overshooting the minimum."
   ]
  },
  {
   "cell_type": "markdown",
   "id": "1ff929ca-be20-49da-a9cb-0d0ac2e0a766",
   "metadata": {},
   "source": [
    "# Q5 Explain the concept of Stochastic radient Descent (SD< and its advantages compared to traditional gradient descent. Discuss its limitations and scenarios where it is most suitable\n"
   ]
  },
  {
   "cell_type": "markdown",
   "id": "01779c15-44c0-44d0-9409-750f3a5da150",
   "metadata": {},
   "source": [
    "Stochastic Gradient Descent (SGD):\n",
    "Concept:\n",
    "Idea: Stochastic Gradient Descent (SGD) is a variant of gradient descent where, instead of computing the gradient of the entire dataset, the gradient is computed for a single randomly chosen data point (or a small batch).\n",
    "Advantages:\n",
    "Computational Efficiency: Computationally more efficient than batch gradient descent, especially for large datasets.\n",
    "Faster Convergence: Faster convergence as each update is based on a single or a few examples.\n",
    "Limitations and Suitability:\n",
    "High Variance: High variance in parameter updates due to the randomness of the selected data points.\n",
    "Noisy Updates: The noise introduced by individual samples may cause oscillations in the optimization process.\n",
    "Suitability:\n",
    "Well-suited for large datasets where computing the gradient for the entire dataset is computationally expensive.\n",
    "Can be suitable for online learning scenarios"
   ]
  },
  {
   "cell_type": "markdown",
   "id": "871fd403-cb13-44d0-b47f-28b685e2b429",
   "metadata": {},
   "source": [
    "# Q6 Describe the concept of Adam optimizer and how it combines momentum and adaptive learning rates. Discuss its benefits and potential drawbacks"
   ]
  },
  {
   "cell_type": "markdown",
   "id": "622b67e1-102d-4508-a26a-cfb8262e26c7",
   "metadata": {},
   "source": [
    "Adam Optimizer:\n",
    "\n",
    "Concept:\n",
    "\n",
    "Idea: The Adam optimizer combines the benefits of momentum and adaptive learning rates.\n",
    "Components:\n",
    "\n",
    "Momentum Component: Maintains an exponentially decaying average of past gradients.\n",
    "\n",
    "RMSprop Component: Maintains an exponentially decaying average of past squared gradients.\n",
    "\n",
    "Adaptive Learning Rates: Adjusts learning rates for each parameter based on the moment estimates.\n",
    "Benefits:\n",
    "\n",
    "Adaptivity: Adaptive learning rates for each parameter.\n",
    "\n",
    "Efficiency: Efficient memory usage.\n",
    "\n",
    "Momentum: Momentum-like behavior helps in overcoming slow convergence.\n",
    "\n",
    "Drawbacks:\n",
    "\n",
    "Complexity: Adam has more hyperparameters compared to simpler optimizers.\n",
    "\n",
    "Sensitivity: Sensitive to the choice of hyperparameters."
   ]
  },
  {
   "cell_type": "markdown",
   "id": "4c91f4df-245d-44f0-83b6-8752a0d91fe9",
   "metadata": {},
   "source": [
    "# Q7 Explain the concept of RMSprop optimizer and how it addresses the challenges of adaptive learning rates. ompare it with Adam and discuss their relative strengths and weaknesses."
   ]
  },
  {
   "cell_type": "markdown",
   "id": "67dc2363-4b5c-4ec1-b63e-257d19c977be",
   "metadata": {},
   "source": [
    "RMSprop Optimizer:\n",
    "\n",
    "Concept:\n",
    "\n",
    "Idea: RMSprop (Root Mean Square Propagation) is an adaptive learning rate optimization algorithm.\n",
    "\n",
    "Components:\n",
    "\n",
    "Exponentially Decaying Average: Maintains an exponentially decaying average of past squared gradients.\n",
    "\n",
    "Benefits:\n",
    "\n",
    "Adaptivity: Adapts learning rates for each parameter based on the historical average of squared gradients.\n",
    "\n",
    "Stability: Addresses the problem of rapidly decreasing learning rates in Adagrad.\n",
    "Comparison with Adam:\n",
    "\n",
    "Similarities:\n",
    "\n",
    "Both adaptively adjust learning rates based on historical information.\n",
    "\n",
    "Differences:\n",
    "\n",
    "Moments: Adam includes momentum-like components, while RMSprop focuses solely on adaptive learning rates.\n",
    "Memory Usage: RMSprop may use less memory compared to Adam due to fewer components.\n",
    "\n",
    "Hyperparameters: Adam has more hyperparameters, potentially making it more sensitive to their choice."
   ]
  },
  {
   "cell_type": "code",
   "execution_count": 2,
   "id": "29af1e0d-c50f-4f47-8a46-9b361ffc02e0",
   "metadata": {},
   "outputs": [
    {
     "name": "stdout",
     "output_type": "stream",
     "text": [
      "Requirement already satisfied: tensorflow in /opt/conda/lib/python3.10/site-packages (2.15.0)\n",
      "Requirement already satisfied: packaging in /opt/conda/lib/python3.10/site-packages (from tensorflow) (22.0)\n",
      "Requirement already satisfied: setuptools in /opt/conda/lib/python3.10/site-packages (from tensorflow) (65.5.1)\n",
      "Requirement already satisfied: protobuf!=4.21.0,!=4.21.1,!=4.21.2,!=4.21.3,!=4.21.4,!=4.21.5,<5.0.0dev,>=3.20.3 in /opt/conda/lib/python3.10/site-packages (from tensorflow) (4.21.11)\n",
      "Requirement already satisfied: flatbuffers>=23.5.26 in /opt/conda/lib/python3.10/site-packages (from tensorflow) (23.5.26)\n",
      "Requirement already satisfied: ml-dtypes~=0.2.0 in /opt/conda/lib/python3.10/site-packages (from tensorflow) (0.2.0)\n",
      "Requirement already satisfied: tensorflow-io-gcs-filesystem>=0.23.1 in /opt/conda/lib/python3.10/site-packages (from tensorflow) (0.34.0)\n",
      "Requirement already satisfied: google-pasta>=0.1.1 in /opt/conda/lib/python3.10/site-packages (from tensorflow) (0.2.0)\n",
      "Requirement already satisfied: six>=1.12.0 in /opt/conda/lib/python3.10/site-packages (from tensorflow) (1.16.0)\n",
      "Requirement already satisfied: opt-einsum>=2.3.2 in /opt/conda/lib/python3.10/site-packages (from tensorflow) (3.3.0)\n",
      "Requirement already satisfied: termcolor>=1.1.0 in /opt/conda/lib/python3.10/site-packages (from tensorflow) (2.3.0)\n",
      "Requirement already satisfied: gast!=0.5.0,!=0.5.1,!=0.5.2,>=0.2.1 in /opt/conda/lib/python3.10/site-packages (from tensorflow) (0.5.4)\n",
      "Requirement already satisfied: grpcio<2.0,>=1.24.3 in /opt/conda/lib/python3.10/site-packages (from tensorflow) (1.59.3)\n",
      "Requirement already satisfied: numpy<2.0.0,>=1.23.5 in /opt/conda/lib/python3.10/site-packages (from tensorflow) (1.23.5)\n",
      "Requirement already satisfied: wrapt<1.15,>=1.11.0 in /opt/conda/lib/python3.10/site-packages (from tensorflow) (1.14.1)\n",
      "Requirement already satisfied: libclang>=13.0.0 in /opt/conda/lib/python3.10/site-packages (from tensorflow) (16.0.6)\n",
      "Requirement already satisfied: tensorflow-estimator<2.16,>=2.15.0 in /opt/conda/lib/python3.10/site-packages (from tensorflow) (2.15.0)\n",
      "Requirement already satisfied: tensorboard<2.16,>=2.15 in /opt/conda/lib/python3.10/site-packages (from tensorflow) (2.15.1)\n",
      "Requirement already satisfied: absl-py>=1.0.0 in /opt/conda/lib/python3.10/site-packages (from tensorflow) (2.0.0)\n",
      "Requirement already satisfied: astunparse>=1.6.0 in /opt/conda/lib/python3.10/site-packages (from tensorflow) (1.6.3)\n",
      "Requirement already satisfied: typing-extensions>=3.6.6 in /opt/conda/lib/python3.10/site-packages (from tensorflow) (4.4.0)\n",
      "Requirement already satisfied: keras<2.16,>=2.15.0 in /opt/conda/lib/python3.10/site-packages (from tensorflow) (2.15.0)\n",
      "Requirement already satisfied: h5py>=2.9.0 in /opt/conda/lib/python3.10/site-packages (from tensorflow) (3.7.0)\n",
      "Requirement already satisfied: wheel<1.0,>=0.23.0 in /opt/conda/lib/python3.10/site-packages (from astunparse>=1.6.0->tensorflow) (0.38.4)\n",
      "Requirement already satisfied: google-auth-oauthlib<2,>=0.5 in /opt/conda/lib/python3.10/site-packages (from tensorboard<2.16,>=2.15->tensorflow) (1.1.0)\n",
      "Requirement already satisfied: requests<3,>=2.21.0 in /opt/conda/lib/python3.10/site-packages (from tensorboard<2.16,>=2.15->tensorflow) (2.28.1)\n",
      "Requirement already satisfied: markdown>=2.6.8 in /opt/conda/lib/python3.10/site-packages (from tensorboard<2.16,>=2.15->tensorflow) (3.5.1)\n",
      "Requirement already satisfied: werkzeug>=1.0.1 in /opt/conda/lib/python3.10/site-packages (from tensorboard<2.16,>=2.15->tensorflow) (3.0.1)\n",
      "Requirement already satisfied: tensorboard-data-server<0.8.0,>=0.7.0 in /opt/conda/lib/python3.10/site-packages (from tensorboard<2.16,>=2.15->tensorflow) (0.7.2)\n",
      "Requirement already satisfied: google-auth<3,>=1.6.3 in /opt/conda/lib/python3.10/site-packages (from tensorboard<2.16,>=2.15->tensorflow) (2.23.4)\n",
      "Requirement already satisfied: pyasn1-modules>=0.2.1 in /opt/conda/lib/python3.10/site-packages (from google-auth<3,>=1.6.3->tensorboard<2.16,>=2.15->tensorflow) (0.3.0)\n",
      "Requirement already satisfied: cachetools<6.0,>=2.0.0 in /opt/conda/lib/python3.10/site-packages (from google-auth<3,>=1.6.3->tensorboard<2.16,>=2.15->tensorflow) (5.3.2)\n",
      "Requirement already satisfied: rsa<5,>=3.1.4 in /opt/conda/lib/python3.10/site-packages (from google-auth<3,>=1.6.3->tensorboard<2.16,>=2.15->tensorflow) (4.9)\n",
      "Requirement already satisfied: requests-oauthlib>=0.7.0 in /opt/conda/lib/python3.10/site-packages (from google-auth-oauthlib<2,>=0.5->tensorboard<2.16,>=2.15->tensorflow) (1.3.1)\n",
      "Requirement already satisfied: urllib3<1.27,>=1.21.1 in /opt/conda/lib/python3.10/site-packages (from requests<3,>=2.21.0->tensorboard<2.16,>=2.15->tensorflow) (1.26.13)\n",
      "Requirement already satisfied: certifi>=2017.4.17 in /opt/conda/lib/python3.10/site-packages (from requests<3,>=2.21.0->tensorboard<2.16,>=2.15->tensorflow) (2022.12.7)\n",
      "Requirement already satisfied: idna<4,>=2.5 in /opt/conda/lib/python3.10/site-packages (from requests<3,>=2.21.0->tensorboard<2.16,>=2.15->tensorflow) (3.4)\n",
      "Requirement already satisfied: charset-normalizer<3,>=2 in /opt/conda/lib/python3.10/site-packages (from requests<3,>=2.21.0->tensorboard<2.16,>=2.15->tensorflow) (2.1.1)\n",
      "Requirement already satisfied: MarkupSafe>=2.1.1 in /opt/conda/lib/python3.10/site-packages (from werkzeug>=1.0.1->tensorboard<2.16,>=2.15->tensorflow) (2.1.1)\n",
      "Requirement already satisfied: pyasn1<0.6.0,>=0.4.6 in /opt/conda/lib/python3.10/site-packages (from pyasn1-modules>=0.2.1->google-auth<3,>=1.6.3->tensorboard<2.16,>=2.15->tensorflow) (0.5.1)\n",
      "Requirement already satisfied: oauthlib>=3.0.0 in /opt/conda/lib/python3.10/site-packages (from requests-oauthlib>=0.7.0->google-auth-oauthlib<2,>=0.5->tensorboard<2.16,>=2.15->tensorflow) (3.2.2)\n",
      "Note: you may need to restart the kernel to use updated packages.\n"
     ]
    }
   ],
   "source": [
    "pip install tensorflow"
   ]
  },
  {
   "cell_type": "code",
   "execution_count": 3,
   "id": "9dadd28a-3d8a-42e9-8306-7b6ab96202b9",
   "metadata": {},
   "outputs": [
    {
     "name": "stderr",
     "output_type": "stream",
     "text": [
      "2023-11-22 11:27:11.396115: I external/local_tsl/tsl/cuda/cudart_stub.cc:31] Could not find cuda drivers on your machine, GPU will not be used.\n",
      "2023-11-22 11:27:11.465341: E external/local_xla/xla/stream_executor/cuda/cuda_dnn.cc:9261] Unable to register cuDNN factory: Attempting to register factory for plugin cuDNN when one has already been registered\n",
      "2023-11-22 11:27:11.465404: E external/local_xla/xla/stream_executor/cuda/cuda_fft.cc:607] Unable to register cuFFT factory: Attempting to register factory for plugin cuFFT when one has already been registered\n",
      "2023-11-22 11:27:11.466885: E external/local_xla/xla/stream_executor/cuda/cuda_blas.cc:1515] Unable to register cuBLAS factory: Attempting to register factory for plugin cuBLAS when one has already been registered\n",
      "2023-11-22 11:27:11.475923: I external/local_tsl/tsl/cuda/cudart_stub.cc:31] Could not find cuda drivers on your machine, GPU will not be used.\n",
      "2023-11-22 11:27:11.477071: I tensorflow/core/platform/cpu_feature_guard.cc:182] This TensorFlow binary is optimized to use available CPU instructions in performance-critical operations.\n",
      "To enable the following instructions: AVX2 FMA, in other operations, rebuild TensorFlow with the appropriate compiler flags.\n",
      "2023-11-22 11:27:12.684499: W tensorflow/compiler/tf2tensorrt/utils/py_utils.cc:38] TF-TRT Warning: Could not find TensorRT\n"
     ]
    }
   ],
   "source": [
    "import tensorflow as tf\n",
    "import matplotlib.pyplot as plt\n",
    "from tensorflow.keras.models import Sequential\n",
    "from tensorflow.keras.layers import Dense,Flatten\n",
    "from sklearn.model_selection import train_test_split"
   ]
  },
  {
   "cell_type": "code",
   "execution_count": 4,
   "id": "210ffbac-1e8a-4367-88a9-51b7371f9e7e",
   "metadata": {},
   "outputs": [],
   "source": [
    "mnist = tf.keras.datasets.mnist"
   ]
  },
  {
   "cell_type": "code",
   "execution_count": 5,
   "id": "fc801043-1c54-4d48-b414-995b17d279cb",
   "metadata": {},
   "outputs": [],
   "source": [
    "(x_train_full,y_train_full),(x_test,y_test) = mnist.load_data()"
   ]
  },
  {
   "cell_type": "code",
   "execution_count": 6,
   "id": "b7c26122-f26e-4293-8924-5eea545e8744",
   "metadata": {},
   "outputs": [],
   "source": [
    "x_valid,x_train = x_train_full[:5000]/255,x_train_full[5000:]/255\n",
    "y_valid,y_train = y_train_full[:5000]/255,y_train_full[5000:]/255\n",
    "\n",
    "x_test = x_test/255"
   ]
  },
  {
   "cell_type": "code",
   "execution_count": 7,
   "id": "25536496-52e6-452c-8898-e73e69c097d4",
   "metadata": {},
   "outputs": [],
   "source": [
    "# create a validation data set from the training data\n",
    "x_valid ,x_train = x_train_full[:5000]/255 , x_train_full[5000:]/255.\n",
    "y_valid ,y_train = y_train_full[:5000] , y_train_full[5000:]/255\n",
    "\n",
    "x_test = x_test/255"
   ]
  },
  {
   "cell_type": "code",
   "execution_count": 8,
   "id": "4b9f91d2-caa1-4c5a-b514-72bfdb182a66",
   "metadata": {},
   "outputs": [
    {
     "data": {
      "text/plain": [
       "<matplotlib.image.AxesImage at 0x7efdbd7ce230>"
      ]
     },
     "execution_count": 8,
     "metadata": {},
     "output_type": "execute_result"
    },
    {
     "data": {
      "image/png": "[encoded data removed]",
      "text/plain": [
       "<Figure size 640x480 with 1 Axes>"
      ]
     },
     "metadata": {},
     "output_type": "display_data"
    }
   ],
   "source": [
    "plt.imshow(x_train[0])"
   ]
  },
  {
   "cell_type": "code",
   "execution_count": 9,
   "id": "a3d78e6a-0db9-44d3-8dec-a066023d08ab",
   "metadata": {},
   "outputs": [
    {
     "name": "stdout",
     "output_type": "stream",
     "text": [
      "Model: \"sequential\"\n",
      "_________________________________________________________________\n",
      " Layer (type)                Output Shape              Param #   \n",
      "=================================================================\n",
      " flatten (Flatten)           (None, 784)               0         \n",
      "                                                                 \n",
      " dense (Dense)               (None, 50)                39250     \n",
      "                                                                 \n",
      " dense_1 (Dense)             (None, 10)                510       \n",
      "                                                                 \n",
      "=================================================================\n",
      "Total params: 39760 (155.31 KB)\n",
      "Trainable params: 39760 (155.31 KB)\n",
      "Non-trainable params: 0 (0.00 Byte)\n",
      "_________________________________________________________________\n"
     ]
    }
   ],
   "source": [
    "model = Sequential()\n",
    "\n",
    "model.add(Flatten(input_shape=(28,28)))\n",
    "model.add(Dense(50,activation=\"relu\"))\n",
    "model.add(Dense(10,activation=\"softmax\"))\n",
    "\n",
    "model.summary()"
   ]
  },
  {
   "cell_type": "code",
   "execution_count": 10,
   "id": "103949a4-9e7a-4b53-bf0f-bb1ef73d3451",
   "metadata": {},
   "outputs": [],
   "source": [
    "model.compile(loss=\"sparse_categorical_crossentropy\",optimizer=\"adam\",metrics=[\"accuracy\"])"
   ]
  },
  {
   "cell_type": "code",
   "execution_count": 11,
   "id": "a17e6a52-7e80-4235-b102-874fb483d6ab",
   "metadata": {},
   "outputs": [],
   "source": [
    "adam_history = model.fit(x_train,y_train,epochs=50,validation_split=0.2,verbose=0)"
   ]
  },
  {
   "cell_type": "code",
   "execution_count": 12,
   "id": "c62baf4b-8c19-4755-8fd5-91acf173ac68",
   "metadata": {},
   "outputs": [],
   "source": [
    "model.compile(loss=\"sparse_categorical_crossentropy\",optimizer=\"sgd\",metrics=[\"accuracy\"])"
   ]
  },
  {
   "cell_type": "code",
   "execution_count": 13,
   "id": "b8b96bda-fd8c-48f3-a4f5-01a62c989d7f",
   "metadata": {},
   "outputs": [],
   "source": [
    "sgd_history = model.fit(x_train,y_train,epochs=50,validation_split=0.2,verbose=0)"
   ]
  },
  {
   "cell_type": "code",
   "execution_count": 14,
   "id": "9d5a2f9c-5643-4a65-b2c0-fc98595b34e7",
   "metadata": {},
   "outputs": [],
   "source": [
    "model.compile(loss=\"sparse_categorical_crossentropy\",optimizer=\"rmsprop\",metrics=[\"accuracy\"])"
   ]
  },
  {
   "cell_type": "code",
   "execution_count": 15,
   "id": "9aa69bb0-ad0c-4e5f-9ceb-f33b47c452d9",
   "metadata": {},
   "outputs": [],
   "source": [
    "rmsprop_history = model.fit(x_train,y_train,epochs=50,validation_split=0.2,verbose=0)"
   ]
  },
  {
   "cell_type": "code",
   "execution_count": 16,
   "id": "9929959a-427d-4118-97a4-eddaa8fb38a4",
   "metadata": {},
   "outputs": [
    {
     "data": {
      "text/plain": [
       "[<matplotlib.lines.Line2D at 0x7efd7876a530>]"
      ]
     },
     "execution_count": 16,
     "metadata": {},
     "output_type": "execute_result"
    },
    {
     "data": {
      "image/png": "[encoded data removed]",
      "text/plain": [
       "<Figure size 640x480 with 1 Axes>"
      ]
     },
     "metadata": {},
     "output_type": "display_data"
    }
   ],
   "source": [
    "plt.plot(adam_history.history[\"loss\"])\n",
    "plt.plot(sgd_history.history[\"loss\"])\n",
    "plt.plot(rmsprop_history.history[\"loss\"])"
   ]
  },
  {
   "cell_type": "code",
   "execution_count": 17,
   "id": "af3a9ace-19a9-4e73-8f63-3642b04c428b",
   "metadata": {},
   "outputs": [
    {
     "data": {
      "text/plain": [
       "[<matplotlib.lines.Line2D at 0x7efd787ca080>]"
      ]
     },
     "execution_count": 17,
     "metadata": {},
     "output_type": "execute_result"
    },
    {
     "data": {
      "image/png": "[encoded data removed]",
      "text/plain": [
       "<Figure size 640x480 with 1 Axes>"
      ]
     },
     "metadata": {},
     "output_type": "display_data"
    }
   ],
   "source": [
    "plt.plot(adam_history.history[\"val_loss\"])\n",
    "plt.plot(sgd_history.history[\"val_loss\"])\n",
    "plt.plot(rmsprop_history.history[\"val_loss\"])"
   ]
  },
  {
   "cell_type": "code",
   "execution_count": 27,
   "id": "8f6d7994-6010-4ef9-aff0-c6ba033e1b18",
   "metadata": {},
   "outputs": [
    {
     "data": {
      "image/png": "[encoded data removed]",
      "text/plain": [
       "<Figure size 640x480 with 1 Axes>"
      ]
     },
     "metadata": {},
     "output_type": "display_data"
    }
   ],
   "source": [
    "plt.plot(adam_history.history[\"accuracy\"] ,label=\"Adam\",color=\"y\")\n",
    "plt.plot(sgd_history.history[\"accuracy\"],label = \"SGD\",color=\"b\" )\n",
    "plt.plot(rmsprop_history.history[\"accuracy\"], label = \"RMSPROP\",color=\"r\")\n",
    "plt.title(\"Training accuracy for Different Optimizers\")\n",
    "plt.xlabel(\"Epoch\")\n",
    "plt.ylabel(\"Loss\")\n",
    "plt.legend()\n",
    "plt.show()"
   ]
  },
  {
   "cell_type": "code",
   "execution_count": null,
   "id": "d8e228cd-ce3d-494d-b54e-f48ec6d35e20",
   "metadata": {},
   "outputs": [],
   "source": []
  },
  {
   "cell_type": "code",
   "execution_count": null,
   "id": "2c584bd6-ad58-43f6-a2d8-64ab68b3e91b",
   "metadata": {},
   "outputs": [],
   "source": []
  }
 ],
 "metadata": {
  "kernelspec": {
   "display_name": "Python 3 (ipykernel)",
   "language": "python",
   "name": "python3"
  },
  "language_info": {
   "codemirror_mode": {
    "name": "ipython",
    "version": 3
   },
   "file_extension": ".py",
   "mimetype": "text/x-python",
   "name": "python",
   "nbconvert_exporter": "python",
   "pygments_lexer": "ipython3",
   "version": "3.10.8"
  }
 },
 "nbformat": 4,
 "nbformat_minor": 5
}
